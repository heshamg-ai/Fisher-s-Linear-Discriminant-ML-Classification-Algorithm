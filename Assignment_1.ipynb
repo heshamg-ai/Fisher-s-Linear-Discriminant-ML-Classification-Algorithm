{
  "nbformat": 4,
  "nbformat_minor": 0,
  "metadata": {
    "interpreter": {
      "hash": "31f2aee4e71d21fbe5cf8b01ff0e069b9275f58929596ceb00d14d90e3e16cd6"
    },
    "kernelspec": {
      "display_name": "Python 3",
      "language": "python",
      "name": "python3"
    },
    "language_info": {
      "codemirror_mode": {
        "name": "ipython",
        "version": 3
      },
      "file_extension": ".py",
      "mimetype": "text/x-python",
      "name": "python",
      "nbconvert_exporter": "python",
      "pygments_lexer": "ipython3",
      "version": "3.6.13"
    },
    "colab": {
      "name": "Assignment_1.ipynb",
      "provenance": [],
      "collapsed_sections": []
    }
  },
  "cells": [
    {
      "cell_type": "markdown",
      "metadata": {
        "id": "abLFryIo8gqy"
      },
      "source": [
        "<h1><center>CSEN1022:Assignment 1</center></h1>\n",
        "<h3><center>Winter 2021</center></h3>\n",
        "<hr style=\"border:2px solid black\"> </hr>"
      ]
    },
    {
      "cell_type": "markdown",
      "metadata": {
        "id": "aZTMuwvH8gq6"
      },
      "source": [
        "## <u> Please don't forget to fill in this data </u>\n",
        "**Member 1**\n",
        "\n",
        "Name: Mohamed Ashraf Sayed\n",
        "\n",
        "GUC-ID: 43-10871\n",
        "\n",
        "Elective Tutorial No.: T-07 \n",
        "\n",
        "**Member 2**\n",
        "\n",
        "Name: Hesham Abdulhamid\n",
        "\n",
        "GUC-ID: 43-1684\n",
        "\n",
        "Elective Tutorial No.: T-06\n",
        "\n",
        "<hr style=\"border:2px solid black\"> </hr>"
      ]
    },
    {
      "cell_type": "code",
      "metadata": {
        "id": "smHBO3qQ3JbF"
      },
      "source": [
        "from google.colab import files\n",
        "uploaded = files.upload()"
      ],
      "execution_count": null,
      "outputs": []
    },
    {
      "cell_type": "code",
      "metadata": {
        "id": "e0Ffj9143KDH"
      },
      "source": [
        "!unzip assignment_1-m7mda4raf99-master.zip"
      ],
      "execution_count": null,
      "outputs": []
    },
    {
      "cell_type": "markdown",
      "metadata": {
        "id": "qqay57t48gq9"
      },
      "source": [
        "## Imports (Don't Edit)"
      ]
    },
    {
      "cell_type": "code",
      "metadata": {
        "id": "N2GhiaLk8gq-"
      },
      "source": [
        "# ONLY USE THESE IMPORTS.\n",
        "# PLEASE DON'T EDIT THIS CELL.\n",
        "import numpy as np\n",
        "import matplotlib.pyplot as plt\n",
        "%matplotlib inline"
      ],
      "execution_count": null,
      "outputs": []
    },
    {
      "cell_type": "markdown",
      "metadata": {
        "id": "PL8aL0of8grA"
      },
      "source": [
        "## Read Data (Edit)"
      ]
    },
    {
      "cell_type": "code",
      "metadata": {
        "id": "j3QH5dbS8grA"
      },
      "source": [
        "from PIL import Image\n",
        "\n",
        "def our_reshapeColors(image_array): \n",
        "    image_reshaped = np.zeros([1, len(image_array) * 3], dtype=float)\n",
        "    arr = np.reshape(image_array, 3072)\n",
        "    for x in range(len(arr)):\n",
        "        image_reshaped[0][x] = arr[x]\n",
        "    return image_reshaped\n",
        "\n",
        "def our_reshape(grey_image_array):\n",
        "    image_reshaped = np.zeros([1, len(grey_image_array)], dtype=float)\n",
        "    for x in range(len(grey_image_array)):\n",
        "        image_reshaped[0][x] = grey_image_array[x][0]\n",
        "    return image_reshaped\n",
        "\n",
        "def readData():\n",
        "    nRGB = 3072\n",
        "    nGrey = 1024\n",
        "\n",
        "    ############### LOAD X-TRAIN ###########\n",
        "\n",
        "    x_train = np.zeros([15000, nRGB], dtype=float)\n",
        "\n",
        "    for x in range(5000):\n",
        "      trained_img = Image.open(\"/content/assignment_1-m7mda4raf99-master/Data/train/airplane/\" + str(x) + \".jpg\")\n",
        "      image_sequence = trained_img.getdata()\n",
        "      image_array = np.array(image_sequence)\n",
        "      image_reshaped = our_reshapeColors(image_array)\n",
        "      for y in range(nRGB):\n",
        "          x_train[x][y]=image_reshaped[0][y]/255\n",
        "\n",
        "    for x in range(5000):\n",
        "      trained_img = Image.open(\"/content/assignment_1-m7mda4raf99-master/Data/train/automobile/\" + str(x) + \".jpg\")\n",
        "      image_sequence = trained_img.getdata()\n",
        "      image_array = np.array(image_sequence)\n",
        "      image_reshaped = our_reshapeColors(image_array)\n",
        "      for y in range(nRGB):\n",
        "          x_train[x+5000][y]=image_reshaped[0][y]/255\n",
        "\n",
        "    for x in range(5000):\n",
        "      trained_img = Image.open(\"/content/assignment_1-m7mda4raf99-master/Data/train/frog/\" + str(x) + \".jpg\")\n",
        "      image_sequence = trained_img.getdata()\n",
        "      image_array = np.array(image_sequence)\n",
        "      image_reshaped = our_reshapeColors(image_array)\n",
        "      for y in range(nRGB):\n",
        "          x_train[x+10000][y]=image_reshaped[0][y]/255      \n",
        "    \n",
        "    ############### LOAD Y-TRAIN ###########\n",
        "\n",
        "    y_train = np.zeros([15000, nGrey], dtype=float)\n",
        "\n",
        "    for x in range(5000):\n",
        "      trained_img = Image.open(\"/content/assignment_1-m7mda4raf99-master/Data/train/airplane/\" + str(x) + \".jpg\")\n",
        "      image_sequence = trained_img.getdata()\n",
        "      image_array = np.array(image_sequence)\n",
        "      image_reshaped = our_reshapeColors(image_array)\n",
        "      grey_image_array = np.zeros([nGrey, 1], dtype=float)\n",
        "      for z in range(len(image_array)):\n",
        "        grey_image_array[z][0] = 0.3 * image_array[z][0] + 0.59 * image_array[z][1] + 0.11 * image_array[z][2] \n",
        "      image_reshaped = our_reshape(grey_image_array)\n",
        "      for y in range(nGrey):\n",
        "          y_train[x][y]=image_reshaped[0][y]/255\n",
        "\n",
        "    for x in range(5000):\n",
        "      trained_img = Image.open(\"/content/assignment_1-m7mda4raf99-master/Data/train/automobile/\" + str(x) + \".jpg\")\n",
        "      image_sequence = trained_img.getdata()\n",
        "      image_array = np.array(image_sequence)\n",
        "      image_reshaped = our_reshapeColors(image_array)\n",
        "      grey_image_array = np.zeros([nGrey, 1], dtype=float)\n",
        "      for z in range(len(image_array)):\n",
        "        grey_image_array[z][0] = 0.3 * image_array[z][0] + 0.59 * image_array[z][1] + 0.11 * image_array[z][2] \n",
        "      image_reshaped = our_reshape(grey_image_array)\n",
        "      for y in range(nGrey):\n",
        "          y_train[x+5000][y]=image_reshaped[0][y]/255\n",
        "\n",
        "    for x in range(5000):\n",
        "      trained_img = Image.open(\"/content/assignment_1-m7mda4raf99-master/Data/train/frog/\" + str(x) + \".jpg\")\n",
        "      image_sequence = trained_img.getdata()\n",
        "      image_array = np.array(image_sequence)\n",
        "      image_reshaped = our_reshapeColors(image_array)\n",
        "      grey_image_array = np.zeros([nGrey, 1], dtype=float)\n",
        "      for z in range(len(image_array)):\n",
        "        grey_image_array[z][0] = 0.3 * image_array[z][0] + 0.59 * image_array[z][1] + 0.11 * image_array[z][2] \n",
        "      image_reshaped = our_reshape(grey_image_array)\n",
        "      for y in range(nGrey):\n",
        "          y_train[x+10000][y]=image_reshaped[0][y]/255      \n",
        "\n",
        "    ############### LOAD X-TEST ###########\n",
        "\n",
        "    X_test = np.zeros([3000, nRGB], dtype=float)\n",
        "\n",
        "    for x in range(1000):\n",
        "      trained_img = Image.open(\"/content/assignment_1-m7mda4raf99-master/Data/test/airplane/\" + str(x) + \".jpg\")\n",
        "      image_sequence = trained_img.getdata()\n",
        "      image_array = np.array(image_sequence)\n",
        "      image_reshaped = our_reshapeColors(image_array)\n",
        "      for y in range(nRGB):\n",
        "          X_test[x][y]=image_reshaped[0][y]/255\n",
        "\n",
        "    for x in range(1000):\n",
        "      trained_img = Image.open(\"/content/assignment_1-m7mda4raf99-master/Data/test/automobile/\" + str(x) + \".jpg\")\n",
        "      image_sequence = trained_img.getdata()\n",
        "      image_array = np.array(image_sequence)\n",
        "      image_reshaped = our_reshapeColors(image_array)\n",
        "      for y in range(nRGB):\n",
        "          X_test[x+1000][y]=image_reshaped[0][y]/255\n",
        "\n",
        "    for x in range(1000):\n",
        "      trained_img = Image.open(\"/content/assignment_1-m7mda4raf99-master/Data/test/frog/\" + str(x) + \".jpg\")\n",
        "      image_sequence = trained_img.getdata()\n",
        "      image_array = np.array(image_sequence)\n",
        "      image_reshaped = our_reshapeColors(image_array)\n",
        "      for y in range(nRGB):\n",
        "          X_test[x+2000][y]=image_reshaped[0][y]/255\n",
        "\n",
        "    ############### LOAD Y-TEST ###########\n",
        "\n",
        "    y_test = np.zeros([3000, nGrey], dtype=float)\n",
        "\n",
        "    for x in range(1000):\n",
        "      trained_img = Image.open(\"/content/assignment_1-m7mda4raf99-master/Data/test/airplane/\" + str(x) + \".jpg\")\n",
        "      image_sequence = trained_img.getdata()\n",
        "      image_array = np.array(image_sequence)\n",
        "      image_reshaped = our_reshapeColors(image_array)\n",
        "      grey_image_array = np.zeros([nGrey, 1], dtype=float)\n",
        "      for z in range(len(image_array)):\n",
        "        grey_image_array[z][0] = 0.3 * image_array[z][0] + 0.59 * image_array[z][1] + 0.11 * image_array[z][2] \n",
        "      image_reshaped = our_reshape(grey_image_array)\n",
        "      for y in range(nGrey):\n",
        "          y_test[x][y]=image_reshaped[0][y]/255\n",
        "\n",
        "    for x in range(1000):\n",
        "      trained_img = Image.open(\"/content/assignment_1-m7mda4raf99-master/Data/test/automobile/\" + str(x) + \".jpg\")\n",
        "      image_sequence = trained_img.getdata()\n",
        "      image_array = np.array(image_sequence)\n",
        "      image_reshaped = our_reshapeColors(image_array)\n",
        "      grey_image_array = np.zeros([nGrey, 1], dtype=float)\n",
        "      for z in range(len(image_array)):\n",
        "        grey_image_array[z][0] = 0.3 * image_array[z][0] + 0.59 * image_array[z][1] + 0.11 * image_array[z][2] \n",
        "      image_reshaped = our_reshape(grey_image_array)\n",
        "      for y in range(nGrey):\n",
        "          y_test[x+1000][y]=image_reshaped[0][y]/255\n",
        "\n",
        "    for x in range(1000):\n",
        "      trained_img = Image.open(\"/content/assignment_1-m7mda4raf99-master/Data/test/frog/\" + str(x) + \".jpg\")\n",
        "      image_sequence = trained_img.getdata()\n",
        "      image_array = np.array(image_sequence)\n",
        "      image_reshaped = our_reshapeColors(image_array)\n",
        "      grey_image_array = np.zeros([nGrey, 1], dtype=float)\n",
        "      for z in range(len(image_array)):\n",
        "        grey_image_array[z][0] = 0.3 * image_array[z][0] + 0.59 * image_array[z][1] + 0.11 * image_array[z][2] \n",
        "      image_reshaped = our_reshape(grey_image_array)\n",
        "      for y in range(nGrey):\n",
        "          y_test[x+2000][y]=image_reshaped[0][y]/255\n",
        "\n",
        "    return (x_train, y_train), (X_test, y_test)"
      ],
      "execution_count": null,
      "outputs": []
    },
    {
      "cell_type": "markdown",
      "metadata": {
        "id": "QEjMw2je8grB"
      },
      "source": [
        "<hr style=\"border:2px solid black\"> </hr>\n",
        "\n",
        "## Construct Fischer's Linear Discriminant classifier for each of the 3 classes.\n",
        "#### Test each classifier on all images in X_Test. \n",
        "#### Construct Confusion Matrix."
      ]
    },
    {
      "cell_type": "code",
      "metadata": {
        "id": "0bIOi_iL8grC"
      },
      "source": [
        "# Write code here\n",
        "\n",
        "((x_train, y_train), (X_test, y_test)) = readData()\n",
        " \n",
        "# Train\n",
        "\n",
        "def calculateMean(array_of_images):\n",
        "    mean=np.zeros([1, len(array_of_images[0])], dtype=float)\n",
        "    for y in range(len(array_of_images[0])):\n",
        "        sum=0\n",
        "        for x in range(len(array_of_images)):\n",
        "            sum=sum+array_of_images[x][y]\n",
        "        \n",
        "        mean[0][y]=sum/len(array_of_images)\n",
        "    return np.transpose(mean)   \n",
        "\n",
        "def returnImage(image):\n",
        "  new_image=np.zeros([1, len(image)], dtype=float)\n",
        "  for x in range(len(image)):\n",
        "    new_image[0][x] = image[x]\n",
        "  return new_image\n",
        "\n",
        "def calculateSw(images,mean):\n",
        "    Sw=np.zeros([len(images[0]), len(images[0])], dtype=float)\n",
        "    for x in range(len(images)):\n",
        "       Sw= Sw + (np.dot((np.transpose(returnImage(images[x])) - mean) , np.transpose(np.transpose(returnImage(images[x])) - mean)))\n",
        "   \n",
        "    return Sw  \n",
        "\n",
        "def weightVector_and_Wo(Class_K,Not_Class_K):\n",
        "\n",
        "    m1=calculateMean(Class_K)\n",
        "    m2=calculateMean(Not_Class_K)\n",
        "\n",
        "    Sw1=calculateSw(Class_K,m1)\n",
        "    Sw2=calculateSw(Not_Class_K,m2)\n",
        "    Sw=np.add(Sw1,Sw2)\n",
        "\n",
        "    Sw_Inverse=np.linalg.pinv(Sw)\n",
        "    W = np.dot(Sw_Inverse,(m1 - m2))\n",
        "    Wo = np.dot(np.transpose(W),(-0.5*(m1 + m2)))\n",
        "    return W , Wo\n",
        "\n",
        "airplane_imgs = x_train[0:5000] \n",
        "automobile_imgs = x_train[5000:10000]\n",
        "frog_imgs = x_train[10000:15000]\n",
        "\n",
        "notAirPlanesImgs= np.concatenate((automobile_imgs,frog_imgs))\n",
        "notAutoMobileImgs= np.concatenate((airplane_imgs,frog_imgs))\n",
        "notFrogsImgs= np.concatenate((airplane_imgs,automobile_imgs))\n",
        "\n",
        "W1,Wo1=weightVector_and_Wo(airplane_imgs,notAirPlanesImgs)\n",
        "W2,Wo2=weightVector_and_Wo(automobile_imgs,notAutoMobileImgs)\n",
        "W3,Wo3=weightVector_and_Wo(frog_imgs,notFrogsImgs)\n",
        "\n",
        "# Test\n",
        "\n",
        "def calculateDecisionBoundary(W, Wo, X):\n",
        "  return np.dot(np.transpose(W), X) + Wo\n",
        "\n",
        "airplane_imgs = X_test[0:1000] \n",
        "automobile_imgs =X_test[1000:2000] \n",
        "frog_imgs = X_test[2000:3000] \n",
        "\n",
        "# confusion_matrix\n",
        "\n",
        "confusion_matrix = np.zeros([3, 3], dtype=float)\n",
        "\n",
        "# test 1000 airplane images\n",
        "for x in range(len(airplane_imgs)):\n",
        "  y1 = calculateDecisionBoundary(W1, Wo1, np.transpose(returnImage(airplane_imgs[x])))\n",
        "  y2 = calculateDecisionBoundary(W2, Wo2, np.transpose(returnImage(airplane_imgs[x])))\n",
        "  y3 = calculateDecisionBoundary(W3, Wo3, np.transpose(returnImage(airplane_imgs[x])))\n",
        "  maxY = max(y1[0][0], y2[0][0], y3[0][0])\n",
        "\n",
        "  if(y1 == maxY):\n",
        "    confusion_matrix[0][0] = confusion_matrix[0][0] + 1\n",
        "    \n",
        "  elif(y2 == maxY):\n",
        "    confusion_matrix[0][1] = confusion_matrix[0][1] + 1\n",
        "\n",
        "  else:    \n",
        "    confusion_matrix[0][2] = confusion_matrix[0][2] + 1\n",
        "\n",
        "\n",
        "# test 1000 automobile images\n",
        "for x in range(len(automobile_imgs)):\n",
        "  y1 = calculateDecisionBoundary(W1, Wo1, np.transpose(returnImage(automobile_imgs[x])))\n",
        "  y2 = calculateDecisionBoundary(W2, Wo2, np.transpose(returnImage(automobile_imgs[x])))\n",
        "  y3 = calculateDecisionBoundary(W3, Wo3, np.transpose(returnImage(automobile_imgs[x])))\n",
        "  maxY = max(y1[0][0], y2[0][0], y3[0][0])\n",
        "\n",
        "  if(y1 == maxY):\n",
        "    confusion_matrix[1][0] = confusion_matrix[1][0] + 1\n",
        "    \n",
        "  elif(y2 == maxY):\n",
        "    confusion_matrix[1][1] = confusion_matrix[1][1] + 1\n",
        "\n",
        "  else:    \n",
        "    confusion_matrix[1][2] = confusion_matrix[1][2] + 1\n",
        "\n",
        "# test 1000 frog images\n",
        "for x in range(len(frog_imgs)):\n",
        "  y1 = calculateDecisionBoundary(W1, Wo1, np.transpose(returnImage(frog_imgs[x])))\n",
        "  y2 = calculateDecisionBoundary(W2, Wo2, np.transpose(returnImage(frog_imgs[x])))\n",
        "  y3 = calculateDecisionBoundary(W3, Wo3, np.transpose(returnImage(frog_imgs[x])))\n",
        "  maxY = max(y1[0][0], y2[0][0], y3[0][0])\n",
        "\n",
        "  if(y1 == maxY):\n",
        "    confusion_matrix[2][0] = confusion_matrix[2][0] + 1\n",
        "    \n",
        "  elif(y2 == maxY):\n",
        "    confusion_matrix[2][1] = confusion_matrix[2][1] + 1\n",
        "\n",
        "  else:    \n",
        "    confusion_matrix[2][2] = confusion_matrix[2][2] + 1\n"
      ],
      "execution_count": null,
      "outputs": []
    },
    {
      "cell_type": "markdown",
      "metadata": {
        "id": "TkmgLAH58grD"
      },
      "source": [
        "## Confusion Matrix (Don't Edit)"
      ]
    },
    {
      "cell_type": "code",
      "metadata": {
        "colab": {
          "base_uri": "https://localhost:8080/",
          "height": 343
        },
        "id": "vtNHK2Oz8grE",
        "outputId": "0ee4e938-eddb-4944-8289-c924ccc6f5d0"
      },
      "source": [
        "# Make sure the previous cell returns a variable called confusion_matrix\n",
        "# Plot Confusion Matrix\n",
        "accuracy = np.diag(confusion_matrix).sum()/X_test.shape[0]\n",
        "plt.rc('figure', figsize=[5,5])\n",
        "plt.matshow(confusion_matrix,cmap=\"Blues\")\n",
        "plt.title('FLD+RGB = {0:0.3f}'.format(accuracy))\n",
        "for i in range(0,confusion_matrix.shape[0]):\n",
        "    for j in range(0,confusion_matrix.shape[1]):\n",
        "        plt.annotate(confusion_matrix[i,j],(j,i))"
      ],
      "execution_count": null,
      "outputs": [
        {
          "output_type": "display_data",
          "data": {
            "image/png": "[encoded data removed]",
            "text/plain": [
              "<Figure size 360x360 with 1 Axes>"
            ]
          },
          "metadata": {
            "needs_background": "light"
          }
        }
      ]
    },
    {
      "cell_type": "markdown",
      "metadata": {
        "id": "ih4v19Uh8grF"
      },
      "source": [
        "### Repeat for Grayscale"
      ]
    },
    {
      "cell_type": "code",
      "metadata": {
        "id": "_54bSQSH8grF"
      },
      "source": [
        "# Write code here\n",
        "# Train\n",
        "\n",
        "def calculateMean(array_of_images):\n",
        "    mean=np.zeros([1, len(array_of_images[0])], dtype=float)\n",
        "    for y in range(len(array_of_images[0])):\n",
        "        sum=0\n",
        "        for x in range(len(array_of_images)):\n",
        "            sum=sum+array_of_images[x][y]\n",
        "        \n",
        "        mean[0][y]=sum/len(array_of_images)\n",
        "    return np.transpose(mean)   \n",
        "\n",
        "def returnImage(image):\n",
        "  new_image=np.zeros([1, len(image)], dtype=float)\n",
        "  for x in range(len(image)):\n",
        "    new_image[0][x] = image[x]\n",
        "  return new_image\n",
        "\n",
        "def calculateSw(images,mean):\n",
        "    Sw=np.zeros([len(images[0]), len(images[0])], dtype=float)\n",
        "    for x in range(len(images)):\n",
        "       Sw= Sw + (np.dot((np.transpose(returnImage(images[x])) - mean) , np.transpose(np.transpose(returnImage(images[x])) - mean)))\n",
        "   \n",
        "    return Sw  \n",
        "\n",
        "def weightVector_and_Wo(Class_K,Not_Class_K):\n",
        "\n",
        "    m1=calculateMean(Class_K)\n",
        "    m2=calculateMean(Not_Class_K)\n",
        "\n",
        "    Sw1=calculateSw(Class_K,m1)\n",
        "    Sw2=calculateSw(Not_Class_K,m2)\n",
        "    Sw=np.add(Sw1,Sw2)\n",
        "\n",
        "    Sw_Inverse=np.linalg.pinv(Sw)\n",
        "    W = np.dot(Sw_Inverse,(m1 - m2))\n",
        "    Wo = np.dot(np.transpose(W),(-0.5*(m1 + m2)))\n",
        "    return W , Wo\n",
        "\n",
        "airplane_imgs = y_train[0:5000] \n",
        "automobile_imgs = y_train[5000:10000]\n",
        "frog_imgs = y_train[10000:15000]\n",
        "\n",
        "notAirPlanesImgs= np.concatenate((automobile_imgs,frog_imgs))\n",
        "notAutoMobileImgs= np.concatenate((airplane_imgs,frog_imgs))\n",
        "notFrogsImgs= np.concatenate((airplane_imgs,automobile_imgs))\n",
        "\n",
        "W1,Wo1=weightVector_and_Wo(airplane_imgs,notAirPlanesImgs)\n",
        "W2,Wo2=weightVector_and_Wo(automobile_imgs,notAutoMobileImgs)\n",
        "W3,Wo3=weightVector_and_Wo(frog_imgs,notFrogsImgs)\n",
        "\n",
        "\n",
        "# Test\n",
        "\n",
        "def calculateDecisionBoundary(W, Wo, X):\n",
        "  return np.dot(np.transpose(W), X) + Wo\n",
        "\n",
        "airplane_imgs = y_test[0:1000] \n",
        "automobile_imgs = y_test[1000:2000] \n",
        "frog_imgs = y_test[2000:3000] \n",
        "\n",
        "# confusion_matrix\n",
        "\n",
        "confusion_matrix = np.zeros([3, 3], dtype=float)\n",
        "\n",
        "# test 1000 airplane images\n",
        "for x in range(len(airplane_imgs)):\n",
        "  y1 = calculateDecisionBoundary(W1, Wo1, np.transpose(returnImage(airplane_imgs[x])))\n",
        "  y2 = calculateDecisionBoundary(W2, Wo2, np.transpose(returnImage(airplane_imgs[x])))\n",
        "  y3 = calculateDecisionBoundary(W3, Wo3, np.transpose(returnImage(airplane_imgs[x])))\n",
        "  maxY = max(y1[0][0], y2[0][0], y3[0][0])\n",
        "\n",
        "  if(y1 == maxY):\n",
        "    confusion_matrix[0][0] = confusion_matrix[0][0] + 1\n",
        "    \n",
        "  elif(y2 == maxY):\n",
        "    confusion_matrix[0][1] = confusion_matrix[0][1] + 1\n",
        "\n",
        "  else:    \n",
        "    confusion_matrix[0][2] = confusion_matrix[0][2] + 1\n",
        "\n",
        "\n",
        "# test 1000 automobile images\n",
        "for x in range(len(automobile_imgs)):\n",
        "  y1 = calculateDecisionBoundary(W1, Wo1, np.transpose(returnImage(automobile_imgs[x])))\n",
        "  y2 = calculateDecisionBoundary(W2, Wo2, np.transpose(returnImage(automobile_imgs[x])))\n",
        "  y3 = calculateDecisionBoundary(W3, Wo3, np.transpose(returnImage(automobile_imgs[x])))\n",
        "  maxY = max(y1[0][0], y2[0][0], y3[0][0])\n",
        "\n",
        "  if(y1 == maxY):\n",
        "    confusion_matrix[1][0] = confusion_matrix[1][0] + 1\n",
        "    \n",
        "  elif(y2 == maxY):\n",
        "    confusion_matrix[1][1] = confusion_matrix[1][1] + 1\n",
        "\n",
        "  else:    \n",
        "    confusion_matrix[1][2] = confusion_matrix[1][2] + 1\n",
        "\n",
        "# test 1000 frog images\n",
        "for x in range(len(frog_imgs)):\n",
        "  y1 = calculateDecisionBoundary(W1, Wo1, np.transpose(returnImage(frog_imgs[x])))\n",
        "  y2 = calculateDecisionBoundary(W2, Wo2, np.transpose(returnImage(frog_imgs[x])))\n",
        "  y3 = calculateDecisionBoundary(W3, Wo3, np.transpose(returnImage(frog_imgs[x])))\n",
        "  maxY = max(y1[0][0], y2[0][0], y3[0][0])\n",
        "\n",
        "  if(y1 == maxY):\n",
        "    confusion_matrix[2][0] = confusion_matrix[2][0] + 1\n",
        "    \n",
        "  elif(y2 == maxY):\n",
        "    confusion_matrix[2][1] = confusion_matrix[2][1] + 1\n",
        "\n",
        "  else:    \n",
        "    confusion_matrix[2][2] = confusion_matrix[2][2] + 1\n"
      ],
      "execution_count": null,
      "outputs": []
    },
    {
      "cell_type": "markdown",
      "metadata": {
        "id": "kNXu1POt8grF"
      },
      "source": [
        "## Confusion Matrix (Don't Edit)"
      ]
    },
    {
      "cell_type": "code",
      "metadata": {
        "colab": {
          "base_uri": "https://localhost:8080/",
          "height": 343
        },
        "id": "p9oVtq2C8grG",
        "outputId": "cc4db8f8-b41a-44e3-d311-dcb2212f36a9"
      },
      "source": [
        "# Make sure the previous cell returns a variable called confusion_matrix\n",
        "# Plot Confusion Matrix\n",
        "accuracy = np.diag(confusion_matrix).sum()/X_test.shape[0]\n",
        "plt.rc('figure', figsize=[5,5])\n",
        "plt.matshow(confusion_matrix,cmap=\"Blues\")\n",
        "plt.title('FLD+GRAY = {0:0.3f}'.format(accuracy))\n",
        "for i in range(0,confusion_matrix.shape[0]):\n",
        "    for j in range(0,confusion_matrix.shape[1]):\n",
        "        plt.annotate(confusion_matrix[i,j],(j,i))"
      ],
      "execution_count": null,
      "outputs": [
        {
          "output_type": "display_data",
          "data": {
            "image/png": "[encoded data removed]",
            "text/plain": [
              "<Figure size 360x360 with 1 Axes>"
            ]
          },
          "metadata": {
            "needs_background": "light"
          }
        }
      ]
    },
    {
      "cell_type": "markdown",
      "metadata": {
        "id": "EZKor5yP8grG"
      },
      "source": [
        "<hr style=\"border:2px solid black\"> </hr>\n",
        "\n",
        "## Comment on the change of accuracy between RGB and Grayscale\n",
        "##########\n",
        "\n",
        "Whenever we want to classify images choosing the best image format, either RGB or GreyScale, will be a tradeoff since the use of color can assist the classifier in achieving better outcomes. On the other hand, grayscale photos can work better than RGB format in some cases and are less computationally costly to train, but a classifier trained on RGB images can generate superior results.\n",
        "\n",
        "As here in our case, we achieved a 73.4% accuracy using the RGB format and a 60.1% using the GreyScale image format. In addition, the frog class was the most affected by utilizing the GreyScale picture format, as seen in the confusion matrices above. The classifier predicted 788/1000 images that it is a frog in RGB but only 538/1000 in GreyScale.\n",
        "\n",
        "Hence, we can conclude that it is a compromise that depends on what you are looking for and on the nature of the images.\n",
        "\n",
        "##########\n",
        "<hr style=\"border:2px solid black\"> </hr>"
      ]
    }
  ]
}